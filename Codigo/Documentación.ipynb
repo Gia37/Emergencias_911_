{
 "cells": [
  {
   "cell_type": "markdown",
   "metadata": {},
   "source": [
    "## Instalación\n",
    "Para el correcto funcionamiento del código realizado para este proyecto es necesario seguir las siguientes indicaciones:  \n",
    "1. Instalar los paquetes __`beautifulsoup4`__ y __`Requests`__ en Python: \n",
    " + `pip install beautifulsoup4 Requests`.\n",
    "2. Clonar el repositorio:\n",
    " + git clone `https://github.com/manuela98/Emergencias_911_.git`  \n"
   ]
  },
  {
   "cell_type": "markdown",
   "metadata": {
    "collapsed": true
   },
   "source": [
    "##  Inicialización  \n",
    "1. Dirijase a la carpeta __Codigo__ y ejecute `descarga.py` para descargar el archivo `tzr.csv` que contienen los datos con los que se trabajara.\n",
    "  +  `python descarga.py`\n",
    "1. Para la extracción y manejo de datos se creó una matriz con los datos necesarios para su correcta consulta,esto se realiza con la función `Datos_necesarios()` ubicada en `consultas.py`\n"
   ]
  },
  {
   "cell_type": "markdown",
   "metadata": {},
   "source": [
    "## Consulta\n",
    "\n",
    "Para realizar la consulta debe tener en cuenta los siguientes requerimientos:\n",
    "\n",
    "1. Escribir las siguientes lineas de código en una celda posterior a esta:   \n",
    "\n",
    "    `from IPython.display import display, Markdown`  \n",
    "    `import consulta as c`  \n",
    "    `display(Markdown(c.Consulta()))  \n",
    "    `  \n",
    "         \n",
    "2. Al ejecutar la celda, aparecerá un cuadro en el cuál deberá ingresar el tipo de dato que desea buscar. Inmediatamente despues aparecerá otro cuadro en donde debe ingresar lo que desea buscar. Las opciones son las siguites:\n",
    "    + __Tittle__ : Sí su búsqueda es por tipo de emergencia.\n",
    "        + Ejemplos: EMS, Fire, Traffic\n",
    "    + __Description__ :  Sí su búsqueda es por descripción de la emergencia.\n",
    "        + Ejemplos: FALL VICTIM , RESPIRATORY EMERGENCY , VEHICLE ACCIDENT\n",
    "    + __Date__ : Sí su búsqueda es por le fecha en que ocurrió la llamada.\n",
    "        + Ejemplos: 2015-12-10 , 2015-10-10\n",
    "    + __Hour__ : Sí su búsqueda es por la hora en que ocurrió la llamada.\n",
    "        + Ejemplos: 08:07:00 , 08:47:13\n",
    "1. Si ha realizado la búsqueda de manera correcta se mostrará una tabla con las coincidencias del dato ingresado. la tabla le brindará una información completa que contiene Titulo, descripción, fecha y hora independientemente de cual haya sido el tipo de dato a buscar.\n",
    "\n",
    "    "
   ]
  },
  {
   "cell_type": "code",
   "execution_count": 8,
   "metadata": {
    "collapsed": false
   },
   "outputs": [
    {
     "name": "stdout",
     "output_type": "stream",
     "text": [
      "Ingrese Tittle,Description,Date o Hour segun el dato que desea buscar: Date\n",
      "Ingrese el dato que desea buscar: 2015-12-10\n",
      "Buscando... Por favor espere.\n",
      "Debido al tipo de dato este proceso puede tardar un par de minutos\n"
     ]
    },
    {
     "data": {
      "text/markdown": [
       "|Tittle|Description|Date|Hour|  \n",
       "|---|---|---|---|  \n",
       "|EMS|BACK PAINS/INJURY|2015-12-10|17:40:00|  \n",
       "|EMS|DIABETIC EMERGENCY|2015-12-10|17:40:00|  \n",
       "|Fire|GAS-ODOR/LEAK|2015-12-10|17:40:00|  \n",
       "|EMS|CARDIAC EMERGENCY|2015-12-10|17:40:01|  \n",
       "|EMS|DIZZINESS|2015-12-10|17:40:01|  \n",
       "|EMS|HEAD INJURY|2015-12-10|17:40:01|  \n",
       "|EMS|NAUSEA/VOMITING|2015-12-10|17:40:01|  \n",
       "|EMS|RESPIRATORY EMERGENCY|2015-12-10|17:40:01|  \n",
       "|EMS|SYNCOPAL EPISODE|2015-12-10|17:40:01|  \n",
       "|Traffic|VEHICLE ACCIDENT -|2015-12-10|17:40:01|  \n",
       "|Traffic|VEHICLE ACCIDENT -|2015-12-10|17:40:01|  \n",
       "|Traffic|VEHICLE ACCIDENT -|2015-12-10|17:40:02|  \n",
       "|Traffic|VEHICLE ACCIDENT -|2015-12-10|17:40:02|  \n",
       "|Traffic|VEHICLE ACCIDENT -|2015-12-10|17:40:02|  \n",
       "|Traffic|VEHICLE ACCIDENT -|2015-12-10|17:40:02|  \n",
       "|Traffic|VEHICLE ACCIDENT -|2015-12-10|17:40:02|  \n",
       "|EMS|RESPIRATORY EMERGENCY|2015-12-10|17:46:01|  \n",
       "|EMS|DIZZINESS|2015-12-10|17:47:01|  \n",
       "|EMS|VEHICLE ACCIDENT|2015-12-10|17:47:01|  \n",
       "|Traffic|DISABLED VEHICLE -|2015-12-10|17:47:02|  \n",
       "|Traffic|VEHICLE ACCIDENT -|2015-12-10|17:47:02|  \n",
       "|Traffic|DISABLED VEHICLE -|2015-12-10|17:57:02|  \n",
       "|Fire|APPLIANCE FIRE|2015-12-10|18:02:01|  \n",
       "|Traffic|DISABLED VEHICLE -|2015-12-10|18:02:02|  \n",
       "|Traffic|VEHICLE ACCIDENT -|2015-12-10|18:02:02|  \n",
       "|EMS|GENERAL WEAKNESS|2015-12-10|18:06:25|  \n",
       "|EMS|HEAD INJURY|2015-12-10|18:06:25|  \n",
       "|Fire|CARBON MONOXIDE DETECTOR|2015-12-10|18:06:25|  \n",
       "|Traffic|VEHICLE ACCIDENT -|2015-12-10|18:06:26|  \n",
       "|Traffic|DISABLED VEHICLE -|2015-12-10|18:11:01|  \n",
       "|Traffic|VEHICLE ACCIDENT -|2015-12-10|18:11:01|  \n",
       "|EMS|RESPIRATORY EMERGENCY|2015-12-10|18:12:01|  \n",
       "|EMS|UNKNOWN MEDICAL EMERGENCY|2015-12-10|18:22:00|  \n",
       "|Traffic|DISABLED VEHICLE -|2015-12-10|18:22:01|  \n",
       "|Traffic|DISABLED VEHICLE -|2015-12-10|18:26:02|  \n",
       "|Traffic|VEHICLE ACCIDENT -|2015-12-10|18:26:02|  \n",
       "|Traffic|DISABLED VEHICLE -|2015-12-10|18:27:01|  \n",
       "|Traffic|DISABLED VEHICLE -|2015-12-10|18:27:02|  \n",
       "|Traffic|VEHICLE ACCIDENT -|2015-12-10|18:27:02|  \n",
       "|EMS|VEHICLE ACCIDENT|2015-12-10|18:32:02|  \n",
       "|Traffic|VEHICLE ACCIDENT -|2015-12-10|18:32:02|  \n",
       "|Fire|GAS-ODOR/LEAK|2015-12-10|18:37:01|  \n",
       "|EMS|UNRESPONSIVE SUBJECT|2015-12-10|18:42:00|  \n",
       "|Traffic|VEHICLE ACCIDENT -|2015-12-10|18:42:01|  \n",
       "|EMS|CARDIAC EMERGENCY|2015-12-10|18:47:01|  \n",
       "|Traffic|VEHICLE ACCIDENT -|2015-12-10|18:51:01|  \n",
       "|EMS|VEHICLE ACCIDENT|2015-12-10|18:52:00|  \n",
       "|Fire|VEHICLE ACCIDENT|2015-12-10|18:52:00|  \n",
       "|Traffic|VEHICLE ACCIDENT -|2015-12-10|18:56:02|  \n",
       "|Traffic|VEHICLE ACCIDENT -|2015-12-10|18:56:02|  \n",
       "|EMS|ALTERED MENTAL STATUS|2015-12-10|19:01:02|  \n",
       "|Fire|FIRE ALARM|2015-12-10|19:02:01|  \n",
       "|Traffic|VEHICLE ACCIDENT -|2015-12-10|19:11:01|  \n",
       "|EMS|CVA/STROKE|2015-12-10|19:12:01|  \n",
       "|Fire|FIRE ALARM|2015-12-10|19:12:01|  \n",
       "|Traffic|ROAD OBSTRUCTION -|2015-12-10|19:12:01|  \n",
       "|EMS|UNKNOWN MEDICAL EMERGENCY|2015-12-10|19:26:02|  \n",
       "|EMS|CVA/STROKE|2015-12-10|19:26:03|  \n",
       "|EMS|SUBJECT IN PAIN|2015-12-10|19:26:03|  \n",
       "|EMS|SUBJECT IN PAIN|2015-12-10|19:26:03|  \n",
       "|Traffic|DISABLED VEHICLE -|2015-12-10|19:26:04|  \n",
       "|Traffic|DISABLED VEHICLE -|2015-12-10|19:26:04|  \n",
       "|Traffic|VEHICLE ACCIDENT -|2015-12-10|19:26:05|  \n",
       "|EMS|HEMORRHAGING|2015-12-10|19:27:01|  \n",
       "|EMS|UNKNOWN MEDICAL EMERGENCY|2015-12-10|19:27:01|  \n",
       "|EMS|FALL VICTIM|2015-12-10|19:27:02|  \n",
       "|EMS|RESPIRATORY EMERGENCY|2015-12-10|19:27:02|  \n",
       "|EMS|ASSAULT VICTIM|2015-12-10|19:39:55|  \n",
       "|EMS|FALL VICTIM|2015-12-10|19:42:03|  \n",
       "|EMS|RESPIRATORY EMERGENCY|2015-12-10|19:47:01|  \n",
       "|EMS|SUBJECT IN PAIN|2015-12-10|19:52:01|  \n",
       "|EMS|SEIZURES|2015-12-10|19:57:01|  \n",
       "|Fire|GAS-ODOR/LEAK|2015-12-10|20:06:01|  \n",
       "|EMS|DIABETIC EMERGENCY|2015-12-10|20:07:01|  \n",
       "|EMS|SUBJECT IN PAIN|2015-12-10|20:12:01|  \n",
       "|EMS|UNKNOWN MEDICAL EMERGENCY|2015-12-10|20:12:01|  \n",
       "|EMS|HEAD INJURY|2015-12-10|20:12:02|  \n",
       "|Traffic|VEHICLE ACCIDENT -|2015-12-10|20:12:03|  \n",
       "|Traffic|DISABLED VEHICLE -|2015-12-10|20:27:02|  \n",
       "|EMS|FALL VICTIM|2015-12-10|20:31:01|  \n",
       "|EMS|FALL VICTIM|2015-12-10|20:31:01|  \n",
       "|Traffic|VEHICLE ACCIDENT -|2015-12-10|20:41:02|  \n",
       "|EMS|SYNCOPAL EPISODE|2015-12-10|20:47:01|  \n",
       "|Fire|CARBON MONOXIDE DETECTOR|2015-12-10|20:47:01|  \n",
       "|EMS|MEDICAL ALERT ALARM|2015-12-10|20:52:02|  \n",
       "|EMS|RESPIRATORY EMERGENCY|2015-12-10|20:52:02|  \n",
       "|EMS|ABDOMINAL PAINS|2015-12-10|20:57:01|  \n",
       "|Fire|FIRE ALARM|2015-12-10|21:07:01|  \n",
       "|EMS|RESPIRATORY EMERGENCY|2015-12-10|21:12:01|  \n",
       "|EMS|UNRESPONSIVE SUBJECT|2015-12-10|21:17:02|  \n",
       "|Traffic|ROAD OBSTRUCTION -|2015-12-10|21:22:00|  \n",
       "|Fire|PUMP DETAIL|2015-12-10|21:27:01|  \n",
       "|Traffic|VEHICLE ACCIDENT -|2015-12-10|21:37:01|  \n",
       "|Fire|FIRE INVESTIGATION|2015-12-10|21:41:00|  \n",
       "|Traffic|VEHICLE ACCIDENT -|2015-12-10|21:47:01|  \n",
       "|Traffic|DISABLED VEHICLE -|2015-12-10|21:52:01|  \n",
       "|Traffic|DISABLED VEHICLE -|2015-12-10|22:01:01|  \n",
       "|Traffic|VEHICLE ACCIDENT -|2015-12-10|22:02:01|  \n",
       "|EMS|CVA/STROKE|2015-12-10|22:07:02|  \n",
       "|EMS|FALL VICTIM|2015-12-10|22:27:01|  \n",
       "|EMS|SEIZURES|2015-12-10|22:27:02|  \n",
       "|EMS|CARDIAC EMERGENCY|2015-12-10|22:32:01|  \n",
       "|EMS|OVERDOSE|2015-12-10|22:32:01|  \n",
       "|Fire|FIRE ALARM|2015-12-10|22:37:01|  \n",
       "|Traffic|VEHICLE ACCIDENT -|2015-12-10|22:47:02|  \n",
       "|EMS|FALL VICTIM|2015-12-10|22:56:01|  \n",
       "|Fire|GAS-ODOR/LEAK|2015-12-10|22:56:01|  \n",
       "|EMS|ABDOMINAL PAINS|2015-12-10|22:57:01|  \n",
       "|Fire|FIRE ALARM|2015-12-10|23:07:01|  \n",
       "|Traffic|DISABLED VEHICLE -|2015-12-10|23:07:02|  \n",
       "|EMS|SUBJECT IN PAIN|2015-12-10|23:12:00|  \n",
       "|EMS|RESPIRATORY EMERGENCY|2015-12-10|23:12:01|  \n",
       "|EMS|NAUSEA/VOMITING|2015-12-10|23:22:01|  \n",
       "|EMS|ABDOMINAL PAINS|2015-12-10|23:37:00|  \n",
       "|Traffic|DISABLED VEHICLE -|2015-12-10|23:47:02|  \n"
      ],
      "text/plain": [
       "<IPython.core.display.Markdown object>"
      ]
     },
     "metadata": {},
     "output_type": "display_data"
    }
   ],
   "source": [
    "#Ejemplo \n",
    "from IPython.display import display, Markdown\n",
    "import consulta as c\n",
    "display(Markdown(c.Consulta()))\n"
   ]
  },
  {
   "cell_type": "markdown",
   "metadata": {},
   "source": [
    "## ¿Cómo funciona el programa?\n",
    "\n",
    "Los códigos realizados para este proyecto de aula estan implementados en python y utilizan los siguientes paquetes:  \n",
    " + __Requests__\n",
    " + __Beautifulsoup4__\n",
    " + __Webbrowser__\n",
    " + __os__\n",
    " + __time__\n",
    " + __numpy__\n",
    " + __display__\n",
    " + __Markdown__\n",
    " \n",
    "## descarga.py \n",
    "Este archivo es el encargado de la extracción web de la base de datos que se descargará como archivo de texto plano con el nombre de __`tzr.csv`__.  \n",
    "  \n",
    "  \n",
    "  \n",
    "Este código ingresa a la página http://montcoalert.org/gettingdata/ que es nuestra fuente de datos y busca la url del archivo `tzr.csv` que esta nos facilita y lo descarga en el directorio `Codigo`.\n",
    "\n",
    "## consulta.py \n",
    "\n",
    "Este archivo contiene dos funciones:\n",
    "+ `Datos_necesarios()`:Carga el archivo de texto a una matriz y luego selecciona las columnas de los datos con mas relevancia en este caso y lo carga a la matriz  donde se realiza la consulta.\n",
    "+ `Consulta()`:Solicita al usuario que ingrese el tipo de dato y el dato de búsqueda,luego llama a la función `Datos_necesarios()` que se encarga de buscar las coincidencias del dato ingresado en la matriz. Inmediatamente después genera una tabla markdown con los resultados de la búsqueda.\n",
    "\n",
    "\n",
    "\n",
    "\n",
    "\n"
   ]
  },
  {
   "cell_type": "code",
   "execution_count": null,
   "metadata": {
    "collapsed": true
   },
   "outputs": [],
   "source": []
  }
 ],
 "metadata": {
  "kernelspec": {
   "display_name": "Python 2",
   "language": "python",
   "name": "python2"
  },
  "language_info": {
   "codemirror_mode": {
    "name": "ipython",
    "version": 2
   },
   "file_extension": ".py",
   "mimetype": "text/x-python",
   "name": "python",
   "nbconvert_exporter": "python",
   "pygments_lexer": "ipython2",
   "version": "2.7.6"
  }
 },
 "nbformat": 4,
 "nbformat_minor": 0
}
